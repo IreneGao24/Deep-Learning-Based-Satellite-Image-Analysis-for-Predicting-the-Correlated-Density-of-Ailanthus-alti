{
 "cells": [
  {
   "cell_type": "code",
   "execution_count": 1,
   "id": "bd4caf52",
   "metadata": {},
   "outputs": [
    {
     "name": "stderr",
     "output_type": "stream",
     "text": [
      "/home/irene/myenv/lib/python3.6/site-packages/tqdm/auto.py:22: TqdmWarning: IProgress not found. Please update jupyter and ipywidgets. See https://ipywidgets.readthedocs.io/en/stable/user_install.html\n",
      "  from .autonotebook import tqdm as notebook_tqdm\n"
     ]
    }
   ],
   "source": [
    "import os\n",
    "import sys\n",
    "import csv\n",
    "import pandas as pd\n",
    "import numpy as np\n",
    "\n",
    "import os.path\n",
    "from os import path\n",
    "\n",
    "\n",
    "import PIL\n",
    "from PIL import Image\n",
    "\n",
    "import cv2\n",
    "import glob\n",
    "import h5py\n",
    "import os\n",
    "import pathlib\n",
    "import tables\n",
    "\n",
    "import torch\n",
    "from skimage import io, transform\n",
    "\n",
    "import matplotlib.pyplot as plt\n",
    "from torch.utils.data import Dataset, DataLoader\n",
    "from torchvision import transforms, utils\n",
    "\n",
    "import timm\n",
    "import torch.nn as nn\n",
    "\n",
    "import torch\n",
    "from skimage import io, transform\n"
   ]
  },
  {
   "cell_type": "code",
   "execution_count": 2,
   "id": "2c6dda75",
   "metadata": {},
   "outputs": [],
   "source": [
    "df = pd.read_csv('/home/irene/ISEF-Project-2023/Testing/NJ/DensityNJ.csv')"
   ]
  },
  {
   "cell_type": "code",
   "execution_count": 3,
   "id": "51d8a78e",
   "metadata": {},
   "outputs": [],
   "source": [
    "from sklearn.model_selection import train_test_split\n",
    "test_df = train_test_split(df, test_size = 1, random_state = 0)"
   ]
  },
  {
   "cell_type": "code",
   "execution_count": 4,
   "id": "fa2135af",
   "metadata": {},
   "outputs": [],
   "source": [
    "img_dtype = tables.UInt8Atom()"
   ]
  },
  {
   "cell_type": "code",
   "execution_count": 5,
   "id": "c5a92c2e",
   "metadata": {},
   "outputs": [
    {
     "name": "stdout",
     "output_type": "stream",
     "text": [
      "0        /home/irene/ISEF-Project-2023/Data/DensityNJ/1...\n",
      "1        /home/irene/ISEF-Project-2023/Data/DensityNJ/1...\n",
      "2        /home/irene/ISEF-Project-2023/Data/DensityNJ/1...\n",
      "3        /home/irene/ISEF-Project-2023/Data/DensityNJ/1...\n",
      "4        /home/irene/ISEF-Project-2023/Data/DensityNJ/1...\n",
      "                               ...                        \n",
      "17877    /home/irene/ISEF-Project-2023/Data/DensityNJ/2...\n",
      "17878    /home/irene/ISEF-Project-2023/Data/DensityNJ/2...\n",
      "17879    /home/irene/ISEF-Project-2023/Data/DensityNJ/2...\n",
      "17880    /home/irene/ISEF-Project-2023/Data/DensityNJ/2...\n",
      "17881    /home/irene/ISEF-Project-2023/Data/DensityNJ/2...\n",
      "Name: Path, Length: 17882, dtype: object\n"
     ]
    }
   ],
   "source": [
    "data_shape= (0,224,224,3)\n",
    "\n",
    "h5_path = '/home/irene/ISEF-Project-2023/Testing/NJ/DensityNJ.hdf5'\n",
    "\n",
    "h5_file = tables.open_file(h5_path,mode='w')\n",
    "\n",
    "test_storage  = h5_file.create_earray(h5_file.root, 'test_img',img_dtype, shape = data_shape) \n",
    "\n",
    "test_img_list = df['Path'].to_list()\n",
    "#print(img_arr[None].shape)\n",
    "\n",
    "#order of code is important\n",
    "print(df['Path'])\n",
    "h5_file.create_array(h5_file.root,'test_path',df['Path'].to_list())\n",
    "for i in range(len(test_img_list)):\n",
    "    addr = test_img_list[i]\n",
    "    if os.path.exists(addr):\n",
    "        img = Image.open(addr)\n",
    "        img = img.resize((224, 224), resample=Image.BICUBIC)\n",
    "        img_arr = np.asarray(img)\n",
    "        test_storage.append(img_arr[None])\n",
    "\n"
   ]
  },
  {
   "cell_type": "code",
   "execution_count": 6,
   "id": "26ba188a",
   "metadata": {},
   "outputs": [],
   "source": [
    "h5_file.close()"
   ]
  },
  {
   "cell_type": "code",
   "execution_count": 7,
   "id": "301abcd1",
   "metadata": {},
   "outputs": [
    {
     "data": {
      "text/plain": [
       "array([b'/home/irene/ISEF-Project-2023/Data/DensityNJ/1_1-100.jpg',\n",
       "       b'/home/irene/ISEF-Project-2023/Data/DensityNJ/1_1-11.jpg',\n",
       "       b'/home/irene/ISEF-Project-2023/Data/DensityNJ/1_1-12.jpg', ...,\n",
       "       b'/home/irene/ISEF-Project-2023/Data/DensityNJ/2_99-7.jpg',\n",
       "       b'/home/irene/ISEF-Project-2023/Data/DensityNJ/2_99-8.jpg',\n",
       "       b'/home/irene/ISEF-Project-2023/Data/DensityNJ/2_99-9.jpg'],\n",
       "      dtype='|S58')"
      ]
     },
     "execution_count": 7,
     "metadata": {},
     "output_type": "execute_result"
    }
   ],
   "source": [
    "h5py.File(\"/home/irene/ISEF-Project-2023/Testing/NJ/DensityNJ.hdf5\")[\"test_path\"][:]"
   ]
  },
  {
   "cell_type": "code",
   "execution_count": null,
   "id": "26222753",
   "metadata": {},
   "outputs": [],
   "source": []
  }
 ],
 "metadata": {
  "kernelspec": {
   "display_name": "Python 3",
   "language": "python",
   "name": "python3"
  },
  "language_info": {
   "codemirror_mode": {
    "name": "ipython",
    "version": 3
   },
   "file_extension": ".py",
   "mimetype": "text/x-python",
   "name": "python",
   "nbconvert_exporter": "python",
   "pygments_lexer": "ipython3",
   "version": "3.6.9"
  }
 },
 "nbformat": 4,
 "nbformat_minor": 5
}
