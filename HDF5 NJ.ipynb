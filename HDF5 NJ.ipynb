{
 "cells": [
  {
   "cell_type": "code",
   "execution_count": 1,
   "id": "219d1bd5",
   "metadata": {},
   "outputs": [
    {
     "name": "stderr",
     "output_type": "stream",
     "text": [
      "/home/irene/myenv/lib/python3.6/site-packages/tqdm/auto.py:22: TqdmWarning: IProgress not found. Please update jupyter and ipywidgets. See https://ipywidgets.readthedocs.io/en/stable/user_install.html\n",
      "  from .autonotebook import tqdm as notebook_tqdm\n"
     ]
    }
   ],
   "source": [
    "import os\n",
    "import sys\n",
    "import csv\n",
    "import pandas as pd\n",
    "import numpy as np\n",
    "\n",
    "import os.path\n",
    "from os import path\n",
    "\n",
    "\n",
    "import PIL\n",
    "from PIL import Image\n",
    "\n",
    "import cv2\n",
    "import glob\n",
    "import h5py\n",
    "import os\n",
    "import pathlib\n",
    "import tables\n",
    "\n",
    "import torch\n",
    "from skimage import io, transform\n",
    "\n",
    "import matplotlib.pyplot as plt\n",
    "from torch.utils.data import Dataset, DataLoader\n",
    "from torchvision import transforms, utils\n",
    "\n",
    "import timm\n",
    "import torch.nn as nn\n",
    "\n",
    "import torch\n",
    "from skimage import io, transform\n"
   ]
  },
  {
   "cell_type": "code",
   "execution_count": 5,
   "id": "4b5efe9c",
   "metadata": {},
   "outputs": [],
   "source": [
    "df = pd.read_csv('/home/irene/ISEF-Project-2023/Testing/NJ/ResNet50/NJ.csv')"
   ]
  },
  {
   "cell_type": "code",
   "execution_count": 6,
   "id": "53b09753",
   "metadata": {},
   "outputs": [],
   "source": [
    "from sklearn.model_selection import train_test_split\n",
    "test_df = train_test_split(df, test_size = 1, random_state = 0)"
   ]
  },
  {
   "cell_type": "code",
   "execution_count": 7,
   "id": "6f86f50b",
   "metadata": {},
   "outputs": [],
   "source": [
    "img_dtype = tables.UInt8Atom()"
   ]
  },
  {
   "cell_type": "code",
   "execution_count": 8,
   "id": "0ff9a95a",
   "metadata": {
    "scrolled": true
   },
   "outputs": [
    {
     "name": "stdout",
     "output_type": "stream",
     "text": [
      "0         /home/irene/ISEF-Project-2023/Data/NJ/10_1-1.jpg\n",
      "1        /home/irene/ISEF-Project-2023/Data/NJ/10_1-10.jpg\n",
      "2        /home/irene/ISEF-Project-2023/Data/NJ/10_1-11.jpg\n",
      "3        /home/irene/ISEF-Project-2023/Data/NJ/10_1-12.jpg\n",
      "4        /home/irene/ISEF-Project-2023/Data/NJ/10_1-13.jpg\n",
      "                               ...                        \n",
      "85798     /home/irene/ISEF-Project-2023/Data/NJ/9_99-5.jpg\n",
      "85799     /home/irene/ISEF-Project-2023/Data/NJ/9_99-6.jpg\n",
      "85800     /home/irene/ISEF-Project-2023/Data/NJ/9_99-7.jpg\n",
      "85801     /home/irene/ISEF-Project-2023/Data/NJ/9_99-8.jpg\n",
      "85802     /home/irene/ISEF-Project-2023/Data/NJ/9_99-9.jpg\n",
      "Name: Path, Length: 85803, dtype: object\n"
     ]
    }
   ],
   "source": [
    "data_shape= (0,224,224,3)\n",
    "\n",
    "h5_path = '/home/irene/ISEF-Project-2023/NJ.hdf5'\n",
    "\n",
    "h5_file = tables.open_file(h5_path,mode='w')\n",
    "\n",
    "test_storage  = h5_file.create_earray(h5_file.root, 'test_img',img_dtype, shape = data_shape) \n",
    "\n",
    "test_img_list = df['Path'].to_list()\n",
    "#print(img_arr[None].shape)\n",
    "\n",
    "#order of code is important\n",
    "print(df['Path'])\n",
    "h5_file.create_array(h5_file.root,'test_path',df['Path'].to_list())\n",
    "for i in range(len(test_img_list)):\n",
    "    addr = test_img_list[i]\n",
    "    if os.path.exists(addr):\n",
    "        img = Image.open(addr)\n",
    "        img = img.resize((224, 224), resample=Image.BICUBIC)\n",
    "        img_arr = np.asarray(img)\n",
    "        test_storage.append(img_arr[None])\n",
    "\n"
   ]
  },
  {
   "cell_type": "code",
   "execution_count": 9,
   "id": "6672cd92",
   "metadata": {},
   "outputs": [],
   "source": [
    "h5_file.close()"
   ]
  },
  {
   "cell_type": "code",
   "execution_count": 22,
   "id": "fe4c4f94",
   "metadata": {
    "scrolled": true
   },
   "outputs": [
    {
     "data": {
      "text/plain": [
       "array([b'/home/irene/ISEF-Project-2023/Data/NJ/NJ2_1-1.jpg',\n",
       "       b'/home/irene/ISEF-Project-2023/Data/NJ/NJ2_1-10.jpg',\n",
       "       b'/home/irene/ISEF-Project-2023/Data/NJ/NJ2_1-100.jpg', ...,\n",
       "       b'/home/irene/ISEF-Project-2023/Data/NJ/NJ_99-97.jpg',\n",
       "       b'/home/irene/ISEF-Project-2023/Data/NJ/NJ_99-98.jpg',\n",
       "       b'/home/irene/ISEF-Project-2023/Data/NJ/NJ_99-99.jpg'],\n",
       "      dtype='|S53')"
      ]
     },
     "execution_count": 22,
     "metadata": {},
     "output_type": "execute_result"
    }
   ],
   "source": [
    "h5py.File(\"/home/irene/ISEF-Project-2023/NJ.hdf5\")[\"test_path\"][:]"
   ]
  },
  {
   "cell_type": "code",
   "execution_count": null,
   "id": "e1f877bc",
   "metadata": {},
   "outputs": [],
   "source": []
  }
 ],
 "metadata": {
  "kernelspec": {
   "display_name": "Python 3",
   "language": "python",
   "name": "python3"
  },
  "language_info": {
   "codemirror_mode": {
    "name": "ipython",
    "version": 3
   },
   "file_extension": ".py",
   "mimetype": "text/x-python",
   "name": "python",
   "nbconvert_exporter": "python",
   "pygments_lexer": "ipython3",
   "version": "3.6.9"
  }
 },
 "nbformat": 4,
 "nbformat_minor": 5
}
