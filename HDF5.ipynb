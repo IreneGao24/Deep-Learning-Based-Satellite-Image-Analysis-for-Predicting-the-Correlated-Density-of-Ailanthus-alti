{
 "cells": [
  {
   "cell_type": "code",
   "execution_count": 7,
   "id": "e1c991f3",
   "metadata": {
    "scrolled": false
   },
   "outputs": [],
   "source": [
    "import os\n",
    "import sys\n",
    "import csv\n",
    "import pandas as pd\n",
    "import numpy as np\n",
    "\n",
    "import os.path\n",
    "from os import path\n",
    "\n",
    "\n",
    "import PIL\n",
    "from PIL import Image\n",
    "\n",
    "import cv2\n",
    "import glob\n",
    "import h5py\n",
    "import os\n",
    "import pathlib\n",
    "import tables\n",
    "\n",
    "import torch\n",
    "from skimage import io, transform\n",
    "\n",
    "import matplotlib.pyplot as plt\n",
    "from torch.utils.data import Dataset, DataLoader\n",
    "from torchvision import transforms, utils\n",
    "\n",
    "import timm\n",
    "import torch.nn as nn\n",
    "\n",
    "import torch\n",
    "from skimage import io, transform\n"
   ]
  },
  {
   "cell_type": "code",
   "execution_count": 8,
   "id": "d81f4b28",
   "metadata": {},
   "outputs": [],
   "source": [
    "df = pd.read_csv('/home/irene/ISEF-Project-2023/PreHDF5.csv')"
   ]
  },
  {
   "cell_type": "code",
   "execution_count": 10,
   "id": "56571a2f",
   "metadata": {
    "scrolled": true
   },
   "outputs": [],
   "source": [
    "from sklearn.model_selection import train_test_split\n",
    "train_df, temp_df = train_test_split(df, test_size = 0.4, stratify = df['label'], random_state = 0)\n",
    "val_df, test_df = train_test_split(temp_df, test_size = 0.5, stratify = temp_df['label'], random_state = 0)"
   ]
  },
  {
   "cell_type": "code",
   "execution_count": 13,
   "id": "92f982cb",
   "metadata": {},
   "outputs": [],
   "source": [
    "img_dtype = tables.UInt8Atom()"
   ]
  },
  {
   "cell_type": "code",
   "execution_count": 17,
   "id": "30612c29",
   "metadata": {},
   "outputs": [
    {
     "name": "stdout",
     "output_type": "stream",
     "text": [
      "/home/irene/ISEF-Project-2023/Data/Alta Murgia/1_48-31.jpg\n",
      "(224, 224, 3)\n"
     ]
    },
    {
     "ename": "ValueError",
     "evalue": "the shapes of the appended object and the ``/train_img`` EArray differ in non-enlargeable dimension 3",
     "output_type": "error",
     "traceback": [
      "\u001b[0;31m---------------------------------------------------------------------------\u001b[0m",
      "\u001b[0;31mValueError\u001b[0m                                Traceback (most recent call last)",
      "\u001b[0;32m<ipython-input-17-abb980e1b8c7>\u001b[0m in \u001b[0;36m<module>\u001b[0;34m\u001b[0m\n\u001b[1;32m     24\u001b[0m     \u001b[0mprint\u001b[0m\u001b[0;34m(\u001b[0m\u001b[0mpath\u001b[0m\u001b[0;34m)\u001b[0m\u001b[0;34m\u001b[0m\u001b[0;34m\u001b[0m\u001b[0m\n\u001b[1;32m     25\u001b[0m     \u001b[0mprint\u001b[0m\u001b[0;34m(\u001b[0m\u001b[0mimg_arr\u001b[0m\u001b[0;34m.\u001b[0m\u001b[0mshape\u001b[0m\u001b[0;34m)\u001b[0m\u001b[0;34m\u001b[0m\u001b[0;34m\u001b[0m\u001b[0m\n\u001b[0;32m---> 26\u001b[0;31m     \u001b[0mtrain_storage\u001b[0m\u001b[0;34m.\u001b[0m\u001b[0mappend\u001b[0m\u001b[0;34m(\u001b[0m\u001b[0mimg_arr\u001b[0m\u001b[0;34m[\u001b[0m\u001b[0;32mNone\u001b[0m\u001b[0;34m]\u001b[0m\u001b[0;34m)\u001b[0m\u001b[0;34m\u001b[0m\u001b[0;34m\u001b[0m\u001b[0m\n\u001b[0m\u001b[1;32m     27\u001b[0m \u001b[0;32mfor\u001b[0m \u001b[0mi\u001b[0m \u001b[0;32min\u001b[0m \u001b[0mrange\u001b[0m\u001b[0;34m(\u001b[0m\u001b[0mlen\u001b[0m\u001b[0;34m(\u001b[0m\u001b[0mval_img_list\u001b[0m\u001b[0;34m)\u001b[0m\u001b[0;34m)\u001b[0m\u001b[0;34m:\u001b[0m\u001b[0;34m\u001b[0m\u001b[0;34m\u001b[0m\u001b[0m\n\u001b[1;32m     28\u001b[0m     \u001b[0maddr\u001b[0m \u001b[0;34m=\u001b[0m \u001b[0mval_img_list\u001b[0m\u001b[0;34m[\u001b[0m\u001b[0mi\u001b[0m\u001b[0;34m]\u001b[0m\u001b[0;34m\u001b[0m\u001b[0;34m\u001b[0m\u001b[0m\n",
      "\u001b[0;32m~/myenv/lib/python3.6/site-packages/tables/earray.py\u001b[0m in \u001b[0;36mappend\u001b[0;34m(self, sequence)\u001b[0m\n\u001b[1;32m    198\u001b[0m         \u001b[0mnparr\u001b[0m \u001b[0;34m=\u001b[0m \u001b[0mconvert_to_np_atom2\u001b[0m\u001b[0;34m(\u001b[0m\u001b[0msequence\u001b[0m\u001b[0;34m,\u001b[0m \u001b[0mself\u001b[0m\u001b[0;34m.\u001b[0m\u001b[0matom\u001b[0m\u001b[0;34m)\u001b[0m\u001b[0;34m\u001b[0m\u001b[0;34m\u001b[0m\u001b[0m\n\u001b[1;32m    199\u001b[0m         \u001b[0;31m# Check if it has a consistent shape with underlying EArray\u001b[0m\u001b[0;34m\u001b[0m\u001b[0;34m\u001b[0m\u001b[0;34m\u001b[0m\u001b[0m\n\u001b[0;32m--> 200\u001b[0;31m         \u001b[0mself\u001b[0m\u001b[0;34m.\u001b[0m\u001b[0m_check_shape_append\u001b[0m\u001b[0;34m(\u001b[0m\u001b[0mnparr\u001b[0m\u001b[0;34m)\u001b[0m\u001b[0;34m\u001b[0m\u001b[0;34m\u001b[0m\u001b[0m\n\u001b[0m\u001b[1;32m    201\u001b[0m         \u001b[0;31m# If the size of the nparr is zero, don't do anything else\u001b[0m\u001b[0;34m\u001b[0m\u001b[0;34m\u001b[0m\u001b[0;34m\u001b[0m\u001b[0m\n\u001b[1;32m    202\u001b[0m         \u001b[0;32mif\u001b[0m \u001b[0mnparr\u001b[0m\u001b[0;34m.\u001b[0m\u001b[0msize\u001b[0m \u001b[0;34m>\u001b[0m \u001b[0;36m0\u001b[0m\u001b[0;34m:\u001b[0m\u001b[0;34m\u001b[0m\u001b[0;34m\u001b[0m\u001b[0m\n",
      "\u001b[0;32m~/myenv/lib/python3.6/site-packages/tables/earray.py\u001b[0m in \u001b[0;36m_check_shape_append\u001b[0;34m(self, nparr)\u001b[0m\n\u001b[1;32m    178\u001b[0m                 raise ValueError((\"the shapes of the appended object and the \"\n\u001b[1;32m    179\u001b[0m                                   \u001b[0;34m\"``%s`` EArray differ in non-enlargeable \"\u001b[0m\u001b[0;34m\u001b[0m\u001b[0;34m\u001b[0m\u001b[0m\n\u001b[0;32m--> 180\u001b[0;31m                                   \"dimension %d\") % (self._v_pathname, i))\n\u001b[0m\u001b[1;32m    181\u001b[0m \u001b[0;34m\u001b[0m\u001b[0m\n\u001b[1;32m    182\u001b[0m     \u001b[0;32mdef\u001b[0m \u001b[0mappend\u001b[0m\u001b[0;34m(\u001b[0m\u001b[0mself\u001b[0m\u001b[0;34m,\u001b[0m \u001b[0msequence\u001b[0m\u001b[0;34m)\u001b[0m\u001b[0;34m:\u001b[0m\u001b[0;34m\u001b[0m\u001b[0;34m\u001b[0m\u001b[0m\n",
      "\u001b[0;31mValueError\u001b[0m: the shapes of the appended object and the ``/train_img`` EArray differ in non-enlargeable dimension 3"
     ]
    }
   ],
   "source": [
    "data_shape= (0,224,224,4)\n",
    "\n",
    "h5_path = '/home/irene/ISEF-Project-2023/HDF5.hdf5'\n",
    "\n",
    "h5_file = tables.open_file(h5_path,mode='w')\n",
    "\n",
    "train_storage = h5_file.create_earray(h5_file.root, 'train_img',img_dtype, shape = data_shape) \n",
    "val_storage   = h5_file.create_earray(h5_file.root, 'val_img',img_dtype, shape = data_shape) \n",
    "test_storage  = h5_file.create_earray(h5_file.root, 'test_img',img_dtype, shape = data_shape) \n",
    "\n",
    "train_img_list = train_df['image_path'].to_list()\n",
    "val_img_list = val_df['image_path'].to_list()\n",
    "test_img_list = test_df['image_path'].to_list()\n",
    "\n",
    "h5_file.create_array(h5_file.root,'train_label',train_df['label'].to_list())\n",
    "h5_file.create_array(h5_file.root,'val_label',val_df['label'].to_list())\n",
    "h5_file.create_array(h5_file.root,'test_label',test_df['label'].to_list())\n",
    "#order of code is important\n",
    "for i in range(len(train_img_list)):\n",
    "    path = train_img_list[i]\n",
    "    img = Image.open(path)\n",
    "    img = img.resize((224,224),resample = Image.BICUBIC)\n",
    "    img_arr = np.asarray(img)\n",
    "    print(path)\n",
    "    print(img_arr.shape)\n",
    "    train_storage.append(img_arr[None])\n",
    "for i in range(len(val_img_list)):\n",
    "    addr = val_img_list[i]\n",
    "    img = Image.open(addr)\n",
    "    img = img.resize((224, 224), resample=Image.BICUBIC)\n",
    "    img_arr = np.asarray(img)\n",
    "    val_storage.append(img_arr[None])\n",
    "\n",
    "for i in range(len(test_img_list)):\n",
    "    addr = test_img_list[i]\n",
    "    img = Image.open(addr)\n",
    "    img = img.resize((224, 224), resample=Image.BICUBIC)\n",
    "    img_arr = np.asarray(img)\n",
    "    test_storage.append(img_arr[None])\n",
    "\n"
   ]
  },
  {
   "cell_type": "code",
   "execution_count": 16,
   "id": "7447563c",
   "metadata": {},
   "outputs": [],
   "source": [
    "h5_file.close()"
   ]
  },
  {
   "cell_type": "code",
   "execution_count": null,
   "id": "cff94794",
   "metadata": {},
   "outputs": [],
   "source": []
  }
 ],
 "metadata": {
  "kernelspec": {
   "display_name": "Python 3",
   "language": "python",
   "name": "python3"
  },
  "language_info": {
   "codemirror_mode": {
    "name": "ipython",
    "version": 3
   },
   "file_extension": ".py",
   "mimetype": "text/x-python",
   "name": "python",
   "nbconvert_exporter": "python",
   "pygments_lexer": "ipython3",
   "version": "3.6.9"
  }
 },
 "nbformat": 4,
 "nbformat_minor": 5
}
